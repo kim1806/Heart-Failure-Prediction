{
 "cells": [
  {
   "cell_type": "code",
   "execution_count": 285,
   "id": "a7f19013",
   "metadata": {},
   "outputs": [],
   "source": [
    "import numpy as np \n",
    "import pandas as pd \n",
    "import matplotlib.pyplot as plt\n",
    "import seaborn as sns\n",
    "from sklearn.ensemble import RandomForestClassifier\n",
    "from sklearn.linear_model import LogisticRegression\n",
    "from sklearn.preprocessing import StandardScaler\n",
    "from sklearn.model_selection import cross_val_score, KFold, RepeatedStratifiedKFold\n",
    "from sklearn.metrics import confusion_matrix,classification_report,accuracy_score, ConfusionMatrixDisplay\n",
    "from sklearn.model_selection import train_test_split\n",
    "from sklearn.model_selection import GridSearchCV\n",
    "from sklearn.naive_bayes import GaussianNB\n",
    "from sklearn.dummy import DummyClassifier\n",
    "from scipy import stats\n",
    "from sklearn.svm import SVC\n",
    "from catboost import CatBoostClassifier\n",
    "import lightgbm as lgb\n",
    "\n",
    "\n",
    "import plotly.express as px\n",
    "import plotly.graph_objects as go\n",
    "\n",
    "sns.set()"
   ]
  },
  {
   "cell_type": "code",
   "execution_count": 286,
   "id": "a3fa499f",
   "metadata": {},
   "outputs": [
    {
     "name": "stdout",
     "output_type": "stream",
     "text": [
      "     Age Sex ChestPainType  RestingBP  Cholesterol  FastingBS RestingECG  \\\n",
      "0     40   M           ATA        140          289          0     Normal   \n",
      "1     49   F           NAP        160          180          0     Normal   \n",
      "2     37   M           ATA        130          283          0         ST   \n",
      "3     48   F           ASY        138          214          0     Normal   \n",
      "4     54   M           NAP        150          195          0     Normal   \n",
      "..   ...  ..           ...        ...          ...        ...        ...   \n",
      "913   45   M            TA        110          264          0     Normal   \n",
      "914   68   M           ASY        144          193          1     Normal   \n",
      "915   57   M           ASY        130          131          0     Normal   \n",
      "916   57   F           ATA        130          236          0        LVH   \n",
      "917   38   M           NAP        138          175          0     Normal   \n",
      "\n",
      "     MaxHR ExerciseAngina  Oldpeak ST_Slope  HeartDisease  \n",
      "0      172              N      0.0       Up             0  \n",
      "1      156              N      1.0     Flat             1  \n",
      "2       98              N      0.0       Up             0  \n",
      "3      108              Y      1.5     Flat             1  \n",
      "4      122              N      0.0       Up             0  \n",
      "..     ...            ...      ...      ...           ...  \n",
      "913    132              N      1.2     Flat             1  \n",
      "914    141              N      3.4     Flat             1  \n",
      "915    115              Y      1.2     Flat             1  \n",
      "916    174              N      0.0     Flat             1  \n",
      "917    173              N      0.0       Up             0  \n",
      "\n",
      "[918 rows x 12 columns]\n"
     ]
    }
   ],
   "source": [
    "#obtaining my dataframe.\n",
    "df = pd.read_csv('C:/Users/Samuel Kim/Downloads/heart.csv')\n",
    "print(df)"
   ]
  },
  {
   "cell_type": "code",
   "execution_count": 287,
   "id": "bb11e9bf",
   "metadata": {},
   "outputs": [],
   "source": [
    "scores=[]\n",
    "cv_scores=[]\n",
    "models_name=['LogisticRegression','RandomForest','SVC','CatBoost','LGBM']"
   ]
  },
  {
   "cell_type": "code",
   "execution_count": 288,
   "id": "cf099593",
   "metadata": {},
   "outputs": [],
   "source": [
    "#Get dummies\n",
    "df_e=pd.get_dummies(df)\n",
    "\n",
    "#Define inputs & Output\n",
    "X=df_e.drop(['HeartDisease'], axis=1)\n",
    "y=df_e['HeartDisease']\n",
    "\n",
    "#Normalize\n",
    "scaler=StandardScaler()\n",
    "X=scaler.fit_transform(X)\n",
    "\n",
    "#Split\n",
    "X_train,X_test,y_train,y_test = train_test_split(X,y,test_size=0.3,random_state=42)"
   ]
  },
  {
   "cell_type": "code",
   "execution_count": 289,
   "id": "892cc3e4",
   "metadata": {},
   "outputs": [],
   "source": [
    "#Parameter Tuning\n",
    "#Param grid\n",
    "parameters = {'n_estimators':[10,15,16,18,20,25,40,50,180,200],\n",
    "              'max_depth':[5,7,8,9,10,12,15,16,18,19],\n",
    "             #'min_samples_split':[2,3,5,8],\n",
    "             #'min_samples_leaf':[2,3,5,8],\n",
    "             }\n",
    "\n",
    "#Define grid search\n",
    "clf = GridSearchCV(RandomForestClassifier(), parameters)"
   ]
  },
  {
   "cell_type": "code",
   "execution_count": 290,
   "id": "8d4cc7bd",
   "metadata": {},
   "outputs": [],
   "source": [
    "#CV function\n",
    "def evaluate_model(model, X, y):\n",
    "    cv = RepeatedStratifiedKFold(n_splits=5, n_repeats=5, random_state=1)\n",
    "    scores = cross_val_score(model, X, y, scoring='accuracy', cv=cv, n_jobs=-1, error_score='raise')\n",
    "    return np.mean(scores)"
   ]
  },
  {
   "cell_type": "code",
   "execution_count": 291,
   "id": "a5106fcf",
   "metadata": {},
   "outputs": [],
   "source": [
    "scores=[]\n",
    "cv_scores=[]\n",
    "models_name=['LogisticRegression','RandomForest','SVC','CatBoost','LGBM']"
   ]
  },
  {
   "cell_type": "code",
   "execution_count": 292,
   "id": "c35879e0",
   "metadata": {},
   "outputs": [],
   "source": [
    "#Logistic Regression\n",
    "Model_LR=LogisticRegression(solver='liblinear')\n",
    "\n",
    "#Fit and predict\n",
    "Model_LR.fit(X_train,y_train)\n",
    "y_pred=Model_LR.predict(X_test)\n",
    "\n",
    "#Get scores\n",
    "scores.append(accuracy_score(y_pred,y_test))\n",
    "cv_scores.append(evaluate_model(Model_LR,X,y))"
   ]
  },
  {
   "cell_type": "code",
   "execution_count": 293,
   "id": "f628dd04",
   "metadata": {},
   "outputs": [
    {
     "name": "stdout",
     "output_type": "stream",
     "text": [
      "              precision    recall  f1-score   support\n",
      "\n",
      "           0       0.88      0.83      0.86       119\n",
      "           1       0.88      0.92      0.90       157\n",
      "\n",
      "    accuracy                           0.88       276\n",
      "   macro avg       0.88      0.87      0.88       276\n",
      "weighted avg       0.88      0.88      0.88       276\n",
      "\n"
     ]
    }
   ],
   "source": [
    "print(classification_report(y_pred,y_test))"
   ]
  },
  {
   "cell_type": "code",
   "execution_count": 294,
   "id": "56cbadc3",
   "metadata": {},
   "outputs": [],
   "source": [
    "#Random Forest Classification\n",
    "Model_RF=RandomForestClassifier(n_estimators=200,max_depth=5,\n",
    "                                min_samples_split=2,min_samples_leaf=2,\n",
    "                                criterion='entropy')\n",
    "\n",
    "#Fit and predict\n",
    "Model_RF.fit(X_train,y_train)\n",
    "y_pred=Model_RF.predict(X_test)\n",
    "\n",
    "#Get scores\n",
    "scores.append(accuracy_score(y_pred,y_test))\n",
    "cv_scores.append(evaluate_model(Model_RF,X,y))"
   ]
  },
  {
   "cell_type": "code",
   "execution_count": 295,
   "id": "a5dde463",
   "metadata": {},
   "outputs": [
    {
     "name": "stdout",
     "output_type": "stream",
     "text": [
      "              precision    recall  f1-score   support\n",
      "\n",
      "           0       0.88      0.84      0.86       116\n",
      "           1       0.89      0.91      0.90       160\n",
      "\n",
      "    accuracy                           0.88       276\n",
      "   macro avg       0.88      0.88      0.88       276\n",
      "weighted avg       0.88      0.88      0.88       276\n",
      "\n"
     ]
    }
   ],
   "source": [
    "print(classification_report(y_pred,y_test))"
   ]
  },
  {
   "cell_type": "code",
   "execution_count": 296,
   "id": "d7523f21",
   "metadata": {},
   "outputs": [
    {
     "name": "stdout",
     "output_type": "stream",
     "text": [
      "              precision    recall  f1-score   support\n",
      "\n",
      "           0       0.88      0.87      0.87       113\n",
      "           1       0.91      0.91      0.91       163\n",
      "\n",
      "    accuracy                           0.89       276\n",
      "   macro avg       0.89      0.89      0.89       276\n",
      "weighted avg       0.89      0.89      0.89       276\n",
      "\n"
     ]
    }
   ],
   "source": [
    "Model_SVC=SVC(gamma='scale')\n",
    "\n",
    "#Fit and predict\n",
    "Model_SVC.fit(X_train,y_train)\n",
    "y_pred=Model_SVC.predict(X_test)\n",
    "\n",
    "#Get scores\n",
    "scores.append(accuracy_score(y_pred,y_test))\n",
    "cv_scores.append(evaluate_model(Model_SVC,X,y))\n",
    "print(classification_report(y_pred,y_test))"
   ]
  },
  {
   "cell_type": "code",
   "execution_count": 297,
   "id": "80792a21",
   "metadata": {},
   "outputs": [
    {
     "name": "stdout",
     "output_type": "stream",
     "text": [
      "              precision    recall  f1-score   support\n",
      "\n",
      "           0       0.89      0.88      0.88       114\n",
      "           1       0.91      0.93      0.92       162\n",
      "\n",
      "    accuracy                           0.91       276\n",
      "   macro avg       0.90      0.90      0.90       276\n",
      "weighted avg       0.91      0.91      0.91       276\n",
      "\n"
     ]
    }
   ],
   "source": [
    "Model_CatBoost=CatBoostClassifier(verbose=False)\n",
    "#Fit and predict\n",
    "Model_CatBoost.fit(X_train,y_train,eval_set=(X_test, y_test))\n",
    "y_pred=Model_CatBoost.predict(X_test)\n",
    "\n",
    "#Get scores\n",
    "scores.append(accuracy_score(y_pred,y_test))\n",
    "cv_scores.append(evaluate_model(Model_CatBoost,X,y))\n",
    "print(classification_report(y_pred,y_test))"
   ]
  },
  {
   "cell_type": "code",
   "execution_count": 298,
   "id": "8110855d",
   "metadata": {},
   "outputs": [
    {
     "name": "stdout",
     "output_type": "stream",
     "text": [
      "              precision    recall  f1-score   support\n",
      "\n",
      "           0       0.87      0.83      0.85       117\n",
      "           1       0.88      0.91      0.89       159\n",
      "\n",
      "    accuracy                           0.87       276\n",
      "   macro avg       0.87      0.87      0.87       276\n",
      "weighted avg       0.87      0.87      0.87       276\n",
      "\n"
     ]
    }
   ],
   "source": [
    "Model_lgb=lgb.LGBMClassifier()\n",
    "\n",
    "#Fit and predict\n",
    "Model_lgb.fit(X_train,y_train)\n",
    "y_pred=Model_lgb.predict(X_test)\n",
    "\n",
    "#Get scores\n",
    "scores.append(accuracy_score(y_pred,y_test))\n",
    "cv_scores.append(evaluate_model(Model_lgb,X,y))\n",
    "print(classification_report(y_pred,y_test))"
   ]
  },
  {
   "cell_type": "code",
   "execution_count": 299,
   "id": "ad53eff6",
   "metadata": {},
   "outputs": [
    {
     "data": {
      "text/html": [
       "<style  type=\"text/css\" >\n",
       "#T_7f3ba_row0_col1{\n",
       "            background-color:  #d7d6e9;\n",
       "            color:  #000000;\n",
       "        }#T_7f3ba_row0_col2,#T_7f3ba_row4_col1{\n",
       "            background-color:  #fff7fb;\n",
       "            color:  #000000;\n",
       "        }#T_7f3ba_row1_col1{\n",
       "            background-color:  #b4c4df;\n",
       "            color:  #000000;\n",
       "        }#T_7f3ba_row1_col2{\n",
       "            background-color:  #549cc7;\n",
       "            color:  #000000;\n",
       "        }#T_7f3ba_row2_col1{\n",
       "            background-color:  #2685bb;\n",
       "            color:  #000000;\n",
       "        }#T_7f3ba_row2_col2{\n",
       "            background-color:  #ebe6f2;\n",
       "            color:  #000000;\n",
       "        }#T_7f3ba_row3_col1,#T_7f3ba_row3_col2{\n",
       "            background-color:  #023858;\n",
       "            color:  #f1f1f1;\n",
       "        }#T_7f3ba_row4_col2{\n",
       "            background-color:  #f0eaf4;\n",
       "            color:  #000000;\n",
       "        }</style><table id=\"T_7f3ba_\" ><thead>    <tr>        <th class=\"blank level0\" ></th>        <th class=\"col_heading level0 col0\" >Model</th>        <th class=\"col_heading level0 col1\" >Validation Score</th>        <th class=\"col_heading level0 col2\" >Cross_Validation Score</th>    </tr></thead><tbody>\n",
       "                <tr>\n",
       "                        <th id=\"T_7f3ba_level0_row0\" class=\"row_heading level0 row0\" >0</th>\n",
       "                        <td id=\"T_7f3ba_row0_col0\" class=\"data row0 col0\" >LogisticRegression</td>\n",
       "                        <td id=\"T_7f3ba_row0_col1\" class=\"data row0 col1\" >0.880435</td>\n",
       "                        <td id=\"T_7f3ba_row0_col2\" class=\"data row0 col2\" >0.864496</td>\n",
       "            </tr>\n",
       "            <tr>\n",
       "                        <th id=\"T_7f3ba_level0_row1\" class=\"row_heading level0 row1\" >1</th>\n",
       "                        <td id=\"T_7f3ba_row1_col0\" class=\"data row1 col0\" >RandomForest</td>\n",
       "                        <td id=\"T_7f3ba_row1_col1\" class=\"data row1 col1\" >0.884058</td>\n",
       "                        <td id=\"T_7f3ba_row1_col2\" class=\"data row1 col2\" >0.871900</td>\n",
       "            </tr>\n",
       "            <tr>\n",
       "                        <th id=\"T_7f3ba_level0_row2\" class=\"row_heading level0 row2\" >2</th>\n",
       "                        <td id=\"T_7f3ba_row2_col0\" class=\"data row2 col0\" >SVC</td>\n",
       "                        <td id=\"T_7f3ba_row2_col1\" class=\"data row2 col1\" >0.894928</td>\n",
       "                        <td id=\"T_7f3ba_row2_col2\" class=\"data row2 col2\" >0.866230</td>\n",
       "            </tr>\n",
       "            <tr>\n",
       "                        <th id=\"T_7f3ba_level0_row3\" class=\"row_heading level0 row3\" >3</th>\n",
       "                        <td id=\"T_7f3ba_row3_col0\" class=\"data row3 col0\" >CatBoost</td>\n",
       "                        <td id=\"T_7f3ba_row3_col1\" class=\"data row3 col1\" >0.905797</td>\n",
       "                        <td id=\"T_7f3ba_row3_col2\" class=\"data row3 col2\" >0.877568</td>\n",
       "            </tr>\n",
       "            <tr>\n",
       "                        <th id=\"T_7f3ba_level0_row4\" class=\"row_heading level0 row4\" >4</th>\n",
       "                        <td id=\"T_7f3ba_row4_col0\" class=\"data row4 col0\" >LGBM</td>\n",
       "                        <td id=\"T_7f3ba_row4_col1\" class=\"data row4 col1\" >0.873188</td>\n",
       "                        <td id=\"T_7f3ba_row4_col2\" class=\"data row4 col2\" >0.865816</td>\n",
       "            </tr>\n",
       "    </tbody></table>"
      ],
      "text/plain": [
       "<pandas.io.formats.style.Styler at 0x246b6f7cf40>"
      ]
     },
     "execution_count": 299,
     "metadata": {},
     "output_type": "execute_result"
    }
   ],
   "source": [
    "pd.DataFrame({'Model':models_name,'Validation Score':scores,'Cross_Validation Score':cv_scores}).style.background_gradient()"
   ]
  }
 ],
 "metadata": {
  "kernelspec": {
   "display_name": "Python 3",
   "language": "python",
   "name": "python3"
  },
  "language_info": {
   "codemirror_mode": {
    "name": "ipython",
    "version": 3
   },
   "file_extension": ".py",
   "mimetype": "text/x-python",
   "name": "python",
   "nbconvert_exporter": "python",
   "pygments_lexer": "ipython3",
   "version": "3.8.8"
  }
 },
 "nbformat": 4,
 "nbformat_minor": 5
}
