{
 "cells": [
  {
   "cell_type": "code",
   "execution_count": 20,
   "id": "a7f19013",
   "metadata": {},
   "outputs": [],
   "source": [
    "#import libraries\n",
    "import numpy as np \n",
    "import pandas as pd \n",
    "import matplotlib.pyplot as plt\n",
    "import seaborn as sns"
   ]
  },
  {
   "cell_type": "code",
   "execution_count": 21,
   "id": "a3fa499f",
   "metadata": {},
   "outputs": [
    {
     "name": "stdout",
     "output_type": "stream",
     "text": [
      "     Age Sex ChestPainType  RestingBP  Cholesterol  FastingBS RestingECG  \\\n",
      "0     40   M           ATA        140          289          0     Normal   \n",
      "1     49   F           NAP        160          180          0     Normal   \n",
      "2     37   M           ATA        130          283          0         ST   \n",
      "3     48   F           ASY        138          214          0     Normal   \n",
      "4     54   M           NAP        150          195          0     Normal   \n",
      "..   ...  ..           ...        ...          ...        ...        ...   \n",
      "913   45   M            TA        110          264          0     Normal   \n",
      "914   68   M           ASY        144          193          1     Normal   \n",
      "915   57   M           ASY        130          131          0     Normal   \n",
      "916   57   F           ATA        130          236          0        LVH   \n",
      "917   38   M           NAP        138          175          0     Normal   \n",
      "\n",
      "     MaxHR ExerciseAngina  Oldpeak ST_Slope  HeartDisease  \n",
      "0      172              N      0.0       Up             0  \n",
      "1      156              N      1.0     Flat             1  \n",
      "2       98              N      0.0       Up             0  \n",
      "3      108              Y      1.5     Flat             1  \n",
      "4      122              N      0.0       Up             0  \n",
      "..     ...            ...      ...      ...           ...  \n",
      "913    132              N      1.2     Flat             1  \n",
      "914    141              N      3.4     Flat             1  \n",
      "915    115              Y      1.2     Flat             1  \n",
      "916    174              N      0.0     Flat             1  \n",
      "917    173              N      0.0       Up             0  \n",
      "\n",
      "[918 rows x 12 columns]\n"
     ]
    }
   ],
   "source": [
    "#obtaining my dataframe.\n",
    "df = pd.read_csv('C:/Users/Samuel Kim/Downloads/heart.csv')\n",
    "print(df)"
   ]
  },
  {
   "cell_type": "code",
   "execution_count": 22,
   "id": "ec70f11b",
   "metadata": {},
   "outputs": [],
   "source": [
    "#CORRECTING THE DATA TYPES"
   ]
  },
  {
   "cell_type": "code",
   "execution_count": 23,
   "id": "3ca5568f",
   "metadata": {},
   "outputs": [],
   "source": [
    "#renaming the columns\n",
    "renamed_columns = ['age', 'sex', 'chest_pain_type', 'resting_blood_pressure', 'cholesterol', \n",
    "                   'fasting_blood_sugar', 'rest_ecg', 'max_heart_rate_achieved','exercise_induced_angina',\n",
    "                   'st_depression', 'st_slope', 'Heart_Disease']\n",
    "df.columns = renamed_columns"
   ]
  },
  {
   "cell_type": "code",
   "execution_count": 24,
   "id": "6668798f",
   "metadata": {},
   "outputs": [],
   "source": [
    "#correcting the data types\n",
    "categorical_columns = ['sex', 'chest_pain_type', 'fasting_blood_sugar', 'rest_ecg',\n",
    "                       'exercise_induced_angina', 'st_slope']\n",
    "df[categorical_columns] = df[categorical_columns].astype('object')"
   ]
  },
  {
   "cell_type": "code",
   "execution_count": 25,
   "id": "fe5e12c3",
   "metadata": {},
   "outputs": [
    {
     "name": "stdout",
     "output_type": "stream",
     "text": [
      "     age sex chest_pain_type  resting_blood_pressure  cholesterol  \\\n",
      "0     40   M             ATA                     140          289   \n",
      "1     49   F             NAP                     160          180   \n",
      "2     37   M             ATA                     130          283   \n",
      "3     48   F             ASY                     138          214   \n",
      "4     54   M             NAP                     150          195   \n",
      "..   ...  ..             ...                     ...          ...   \n",
      "913   45   M              TA                     110          264   \n",
      "914   68   M             ASY                     144          193   \n",
      "915   57   M             ASY                     130          131   \n",
      "916   57   F             ATA                     130          236   \n",
      "917   38   M             NAP                     138          175   \n",
      "\n",
      "    fasting_blood_sugar rest_ecg  max_heart_rate_achieved  \\\n",
      "0                     0   Normal                      172   \n",
      "1                     0   Normal                      156   \n",
      "2                     0       ST                       98   \n",
      "3                     0   Normal                      108   \n",
      "4                     0   Normal                      122   \n",
      "..                  ...      ...                      ...   \n",
      "913                   0   Normal                      132   \n",
      "914                   1   Normal                      141   \n",
      "915                   0   Normal                      115   \n",
      "916                   0      LVH                      174   \n",
      "917                   0   Normal                      173   \n",
      "\n",
      "    exercise_induced_angina  st_depression st_slope  Heart_Disease  \n",
      "0                         N            0.0       Up              0  \n",
      "1                         N            1.0     Flat              1  \n",
      "2                         N            0.0       Up              0  \n",
      "3                         Y            1.5     Flat              1  \n",
      "4                         N            0.0       Up              0  \n",
      "..                      ...            ...      ...            ...  \n",
      "913                       N            1.2     Flat              1  \n",
      "914                       N            3.4     Flat              1  \n",
      "915                       Y            1.2     Flat              1  \n",
      "916                       N            0.0     Flat              1  \n",
      "917                       N            0.0       Up              0  \n",
      "\n",
      "[918 rows x 12 columns]\n"
     ]
    }
   ],
   "source": [
    "print(df)"
   ]
  },
  {
   "cell_type": "code",
   "execution_count": 26,
   "id": "f8b92b4e",
   "metadata": {},
   "outputs": [],
   "source": [
    "#REMOVING THE UNECESSARY COLUMNS OR VALUES"
   ]
  },
  {
   "cell_type": "code",
   "execution_count": 27,
   "id": "aed52ab2",
   "metadata": {},
   "outputs": [],
   "source": [
    "#renaming the values in the catergorical features\n",
    "df['sex'].replace({'F':'female','M':'male'}, inplace=True)\n",
    "\n",
    "df['chest_pain_type'].replace({'TA':'typical angina','ATA':'atypical angina','NAP':'non-anginal pain','ASY':'asymptomatic'}, inplace=True)\n",
    "\n",
    "df['fasting_blood_sugar'].replace({0:'lower than 120mg/ml',1:'greater than 120mg/ml'}, inplace=True)\n",
    "\n",
    "df['rest_ecg'].replace({0:'normal',1:'ST-T wave abnormality'}, inplace=True)\n",
    "\n",
    "df['exercise_induced_angina'].replace({0:'no',1:'yes'}, inplace=True)\n",
    "\n",
    "df['Heart_Disease'].replace({0:'heart_disease',1:'normal'}, inplace=True)"
   ]
  },
  {
   "cell_type": "code",
   "execution_count": 28,
   "id": "7eebe523",
   "metadata": {},
   "outputs": [
    {
     "name": "stdout",
     "output_type": "stream",
     "text": [
      "     age     sex   chest_pain_type  resting_blood_pressure  cholesterol  \\\n",
      "0     40    male   atypical angina                     140          289   \n",
      "1     49  female  non-anginal pain                     160          180   \n",
      "2     37    male   atypical angina                     130          283   \n",
      "3     48  female      asymptomatic                     138          214   \n",
      "4     54    male  non-anginal pain                     150          195   \n",
      "..   ...     ...               ...                     ...          ...   \n",
      "913   45    male    typical angina                     110          264   \n",
      "914   68    male      asymptomatic                     144          193   \n",
      "915   57    male      asymptomatic                     130          131   \n",
      "916   57  female   atypical angina                     130          236   \n",
      "917   38    male  non-anginal pain                     138          175   \n",
      "\n",
      "       fasting_blood_sugar rest_ecg  max_heart_rate_achieved  \\\n",
      "0      lower than 120mg/ml   Normal                      172   \n",
      "1      lower than 120mg/ml   Normal                      156   \n",
      "2      lower than 120mg/ml       ST                       98   \n",
      "3      lower than 120mg/ml   Normal                      108   \n",
      "4      lower than 120mg/ml   Normal                      122   \n",
      "..                     ...      ...                      ...   \n",
      "913    lower than 120mg/ml   Normal                      132   \n",
      "914  greater than 120mg/ml   Normal                      141   \n",
      "915    lower than 120mg/ml   Normal                      115   \n",
      "916    lower than 120mg/ml      LVH                      174   \n",
      "917    lower than 120mg/ml   Normal                      173   \n",
      "\n",
      "    exercise_induced_angina  st_depression st_slope  Heart_Disease  \n",
      "0                         N            0.0       Up  heart_disease  \n",
      "1                         N            1.0     Flat         normal  \n",
      "2                         N            0.0       Up  heart_disease  \n",
      "3                         Y            1.5     Flat         normal  \n",
      "4                         N            0.0       Up  heart_disease  \n",
      "..                      ...            ...      ...            ...  \n",
      "913                       N            1.2     Flat         normal  \n",
      "914                       N            3.4     Flat         normal  \n",
      "915                       Y            1.2     Flat         normal  \n",
      "916                       N            0.0     Flat         normal  \n",
      "917                       N            0.0       Up  heart_disease  \n",
      "\n",
      "[918 rows x 12 columns]\n"
     ]
    }
   ],
   "source": [
    "print(df)"
   ]
  },
  {
   "cell_type": "code",
   "execution_count": 29,
   "id": "0ffd2730",
   "metadata": {},
   "outputs": [],
   "source": [
    "#HANDLING MISSING VALUES"
   ]
  },
  {
   "cell_type": "code",
   "execution_count": 30,
   "id": "a54d29a7",
   "metadata": {},
   "outputs": [
    {
     "data": {
      "text/plain": [
       "age                        0\n",
       "sex                        0\n",
       "chest_pain_type            0\n",
       "resting_blood_pressure     0\n",
       "cholesterol                0\n",
       "fasting_blood_sugar        0\n",
       "rest_ecg                   0\n",
       "max_heart_rate_achieved    0\n",
       "exercise_induced_angina    0\n",
       "st_depression              0\n",
       "st_slope                   0\n",
       "Heart_Disease              0\n",
       "dtype: int64"
      ]
     },
     "execution_count": 30,
     "metadata": {},
     "output_type": "execute_result"
    }
   ],
   "source": [
    "#total missing values in each column\n",
    "df.isnull().sum()"
   ]
  },
  {
   "cell_type": "code",
   "execution_count": 31,
   "id": "8e4dbe59",
   "metadata": {},
   "outputs": [
    {
     "data": {
      "text/html": [
       "<div>\n",
       "<style scoped>\n",
       "    .dataframe tbody tr th:only-of-type {\n",
       "        vertical-align: middle;\n",
       "    }\n",
       "\n",
       "    .dataframe tbody tr th {\n",
       "        vertical-align: top;\n",
       "    }\n",
       "\n",
       "    .dataframe thead th {\n",
       "        text-align: right;\n",
       "    }\n",
       "</style>\n",
       "<table border=\"1\" class=\"dataframe\">\n",
       "  <thead>\n",
       "    <tr style=\"text-align: right;\">\n",
       "      <th></th>\n",
       "      <th>Categorical Features</th>\n",
       "      <th>values</th>\n",
       "      <th>age</th>\n",
       "      <th>resting_blood_pressure</th>\n",
       "      <th>cholesterol</th>\n",
       "      <th>max_heart_rate_achieved</th>\n",
       "      <th>st_depression</th>\n",
       "    </tr>\n",
       "  </thead>\n",
       "  <tbody>\n",
       "    <tr>\n",
       "      <th>0</th>\n",
       "      <td>Heart_Disease</td>\n",
       "      <td>heart_disease</td>\n",
       "      <td>50.55</td>\n",
       "      <td>130.18</td>\n",
       "      <td>227.12</td>\n",
       "      <td>148.15</td>\n",
       "      <td>0.41</td>\n",
       "    </tr>\n",
       "    <tr>\n",
       "      <th>1</th>\n",
       "      <td>Heart_Disease</td>\n",
       "      <td>normal</td>\n",
       "      <td>55.90</td>\n",
       "      <td>134.19</td>\n",
       "      <td>175.94</td>\n",
       "      <td>127.66</td>\n",
       "      <td>1.27</td>\n",
       "    </tr>\n",
       "    <tr>\n",
       "      <th>2</th>\n",
       "      <td>Gender</td>\n",
       "      <td>female</td>\n",
       "      <td>52.49</td>\n",
       "      <td>132.21</td>\n",
       "      <td>241.20</td>\n",
       "      <td>146.14</td>\n",
       "      <td>0.67</td>\n",
       "    </tr>\n",
       "    <tr>\n",
       "      <th>3</th>\n",
       "      <td>Gender</td>\n",
       "      <td>male</td>\n",
       "      <td>53.78</td>\n",
       "      <td>132.45</td>\n",
       "      <td>187.51</td>\n",
       "      <td>134.33</td>\n",
       "      <td>0.95</td>\n",
       "    </tr>\n",
       "    <tr>\n",
       "      <th>4</th>\n",
       "      <td>chest_pain_type</td>\n",
       "      <td>asymptomatic</td>\n",
       "      <td>54.96</td>\n",
       "      <td>133.23</td>\n",
       "      <td>186.65</td>\n",
       "      <td>128.48</td>\n",
       "      <td>1.16</td>\n",
       "    </tr>\n",
       "    <tr>\n",
       "      <th>5</th>\n",
       "      <td>chest_pain_type</td>\n",
       "      <td>atypical angina</td>\n",
       "      <td>49.24</td>\n",
       "      <td>130.62</td>\n",
       "      <td>233.05</td>\n",
       "      <td>150.21</td>\n",
       "      <td>0.31</td>\n",
       "    </tr>\n",
       "    <tr>\n",
       "      <th>6</th>\n",
       "      <td>chest_pain_type</td>\n",
       "      <td>non-anginal pain</td>\n",
       "      <td>53.31</td>\n",
       "      <td>130.96</td>\n",
       "      <td>197.44</td>\n",
       "      <td>143.24</td>\n",
       "      <td>0.67</td>\n",
       "    </tr>\n",
       "    <tr>\n",
       "      <th>7</th>\n",
       "      <td>chest_pain_type</td>\n",
       "      <td>typical angina</td>\n",
       "      <td>54.83</td>\n",
       "      <td>136.41</td>\n",
       "      <td>207.07</td>\n",
       "      <td>147.89</td>\n",
       "      <td>1.04</td>\n",
       "    </tr>\n",
       "    <tr>\n",
       "      <th>8</th>\n",
       "      <td>fasting_blood_sugar</td>\n",
       "      <td>N</td>\n",
       "      <td>51.84</td>\n",
       "      <td>130.03</td>\n",
       "      <td>201.88</td>\n",
       "      <td>144.57</td>\n",
       "      <td>0.53</td>\n",
       "    </tr>\n",
       "    <tr>\n",
       "      <th>9</th>\n",
       "      <td>fasting_blood_sugar</td>\n",
       "      <td>Y</td>\n",
       "      <td>55.98</td>\n",
       "      <td>135.88</td>\n",
       "      <td>194.26</td>\n",
       "      <td>125.36</td>\n",
       "      <td>1.42</td>\n",
       "    </tr>\n",
       "    <tr>\n",
       "      <th>10</th>\n",
       "      <td>exercise_induced_angina</td>\n",
       "      <td>Down</td>\n",
       "      <td>58.32</td>\n",
       "      <td>131.86</td>\n",
       "      <td>165.22</td>\n",
       "      <td>129.94</td>\n",
       "      <td>2.15</td>\n",
       "    </tr>\n",
       "    <tr>\n",
       "      <th>11</th>\n",
       "      <td>exercise_induced_angina</td>\n",
       "      <td>Flat</td>\n",
       "      <td>55.26</td>\n",
       "      <td>134.23</td>\n",
       "      <td>193.24</td>\n",
       "      <td>128.11</td>\n",
       "      <td>1.19</td>\n",
       "    </tr>\n",
       "    <tr>\n",
       "      <th>12</th>\n",
       "      <td>exercise_induced_angina</td>\n",
       "      <td>Up</td>\n",
       "      <td>50.71</td>\n",
       "      <td>130.35</td>\n",
       "      <td>210.63</td>\n",
       "      <td>148.04</td>\n",
       "      <td>0.33</td>\n",
       "    </tr>\n",
       "  </tbody>\n",
       "</table>\n",
       "</div>"
      ],
      "text/plain": [
       "       Categorical Features            values    age  resting_blood_pressure  \\\n",
       "0             Heart_Disease     heart_disease  50.55                  130.18   \n",
       "1             Heart_Disease            normal  55.90                  134.19   \n",
       "2                    Gender            female  52.49                  132.21   \n",
       "3                    Gender              male  53.78                  132.45   \n",
       "4           chest_pain_type      asymptomatic  54.96                  133.23   \n",
       "5           chest_pain_type   atypical angina  49.24                  130.62   \n",
       "6           chest_pain_type  non-anginal pain  53.31                  130.96   \n",
       "7           chest_pain_type    typical angina  54.83                  136.41   \n",
       "8       fasting_blood_sugar                 N  51.84                  130.03   \n",
       "9       fasting_blood_sugar                 Y  55.98                  135.88   \n",
       "10  exercise_induced_angina              Down  58.32                  131.86   \n",
       "11  exercise_induced_angina              Flat  55.26                  134.23   \n",
       "12  exercise_induced_angina                Up  50.71                  130.35   \n",
       "\n",
       "    cholesterol  max_heart_rate_achieved  st_depression  \n",
       "0        227.12                   148.15           0.41  \n",
       "1        175.94                   127.66           1.27  \n",
       "2        241.20                   146.14           0.67  \n",
       "3        187.51                   134.33           0.95  \n",
       "4        186.65                   128.48           1.16  \n",
       "5        233.05                   150.21           0.31  \n",
       "6        197.44                   143.24           0.67  \n",
       "7        207.07                   147.89           1.04  \n",
       "8        201.88                   144.57           0.53  \n",
       "9        194.26                   125.36           1.42  \n",
       "10       165.22                   129.94           2.15  \n",
       "11       193.24                   128.11           1.19  \n",
       "12       210.63                   148.04           0.33  "
      ]
     },
     "execution_count": 31,
     "metadata": {},
     "output_type": "execute_result"
    }
   ],
   "source": [
    "# Relation between numeric and categorical features\n",
    "df_copy = df.copy()\n",
    "df_copy['Heart_Disease'].replace({0:'No Heart Disease', 1:'Heart Disease'}, inplace=True)\n",
    "\n",
    "\n",
    "target = df_copy.groupby(['Heart_Disease']).mean(['age', 'resting_blood_pressure', 'cholesterol',\n",
    "                          'max_heart_rate_achieved', 'st_depression'])\n",
    "gender = df_copy.groupby(['sex']).mean(['age', 'resting_blood_pressure', 'cholesterol',\n",
    "                          'max_heart_rate_achieved', 'st_depression'])\n",
    "chest_pain_type = df_copy.groupby(['chest_pain_type']).mean(['age', 'resting_blood_pressure', 'cholesterol',\n",
    "                          'max_heart_rate_achieved', 'st_depression'])\n",
    "fasting_blood_sugar = df_copy.groupby(['fasting_blood_sugar']).mean(['age', 'resting_blood_pressure', 'cholesterol',\n",
    "                          'max_heart_rate_achieved', 'st_depression'])\n",
    "exercise_induced_angina = df_copy.groupby(['exercise_induced_angina']).mean(['age', 'resting_blood_pressure', 'cholesterol',\n",
    "                          'max_heart_rate_achieved', 'st_depression'])\n",
    "st_slope = df_copy.groupby(['st_slope']).mean(['age', 'resting_blood_pressure', 'cholesterol',\n",
    "                          'max_heart_rate_achieved', 'st_depression'])\n",
    "\n",
    "relation = pd.concat([target, gender, chest_pain_type, exercise_induced_angina, st_slope]).reset_index()\n",
    "\n",
    "rename_list = ['Heart_Disease', 'Heart_Disease',\n",
    "               'Gender','Gender',\n",
    "               'chest_pain_type','chest_pain_type','chest_pain_type','chest_pain_type',\n",
    "               'fasting_blood_sugar','fasting_blood_sugar',\n",
    "               'exercise_induced_angina','exercise_induced_angina','exercise_induced_angina']\n",
    "\n",
    "relation.rename(index= dict(zip(list(range(13)),rename_list)), inplace=True, columns={'index':'values'})\n",
    "relation.index.names = ['Categorical Features']\n",
    "relation = relation.round(2)\n",
    "relation.reset_index(inplace=True)\n",
    "\n",
    "relation"
   ]
  },
  {
   "cell_type": "code",
   "execution_count": 32,
   "id": "3270830e",
   "metadata": {},
   "outputs": [
    {
     "data": {
      "image/png": "[encoded data removed]",
      "text/plain": [
       "<Figure size 720x360 with 1 Axes>"
      ]
     },
     "metadata": {
      "needs_background": "light"
     },
     "output_type": "display_data"
    }
   ],
   "source": [
    "#Adults age 50 and older are more likely than younger people to have heart disease\n",
    "plt.figure(figsize=(10,5))\n",
    "bins=[0,30,50,80]\n",
    "sns.countplot(x=pd.cut(df.age,bins=bins),hue=df.Heart_Disease)\n",
    "plt.show()"
   ]
  },
  {
   "cell_type": "code",
   "execution_count": 33,
   "id": "1359f6bd",
   "metadata": {},
   "outputs": [
    {
     "data": {
      "image/png": "[encoded data removed]",
      "text/plain": [
       "<Figure size 720x360 with 1 Axes>"
      ]
     },
     "metadata": {
      "needs_background": "light"
     },
     "output_type": "display_data"
    }
   ],
   "source": [
    "#Asymptomatic is the most common type of chest pain among patients with heart disease \n",
    "plt.figure(figsize=(10,5))\n",
    "sns.countplot(x=df.Heart_Disease,hue=df.chest_pain_type)\n",
    "plt.xticks(np.arange(2), ['No', 'Yes']) \n",
    "plt.show()"
   ]
  },
  {
   "cell_type": "code",
   "execution_count": 37,
   "id": "a175b8bc",
   "metadata": {},
   "outputs": [
    {
     "data": {
      "image/png": "[encoded data removed]",
      "text/plain": [
       "<Figure size 720x504 with 2 Axes>"
      ]
     },
     "metadata": {
      "needs_background": "light"
     },
     "output_type": "display_data"
    }
   ],
   "source": [
    "plt.figure(figsize=(10,7))\n",
    "sns.heatmap(df.corr(), annot=True,cmap='Blues')\n",
    "plt.show()"
   ]
  },
  {
   "cell_type": "code",
   "execution_count": null,
   "id": "70acb29e",
   "metadata": {},
   "outputs": [],
   "source": []
  }
 ],
 "metadata": {
  "kernelspec": {
   "display_name": "Python 3",
   "language": "python",
   "name": "python3"
  },
  "language_info": {
   "codemirror_mode": {
    "name": "ipython",
    "version": 3
   },
   "file_extension": ".py",
   "mimetype": "text/x-python",
   "name": "python",
   "nbconvert_exporter": "python",
   "pygments_lexer": "ipython3",
   "version": "3.8.8"
  }
 },
 "nbformat": 4,
 "nbformat_minor": 5
}
