{
 "cells": [
  {
   "cell_type": "code",
   "execution_count": 79,
   "id": "a7f19013",
   "metadata": {},
   "outputs": [],
   "source": [
    "#import libraries\n",
    "import numpy as np \n",
    "import pandas as pd \n",
    "import matplotlib.pyplot as plt\n",
    "import seaborn as sns"
   ]
  },
  {
   "cell_type": "code",
   "execution_count": 80,
   "id": "a3fa499f",
   "metadata": {},
   "outputs": [
    {
     "name": "stdout",
     "output_type": "stream",
     "text": [
      "     Age Sex ChestPainType  RestingBP  Cholesterol  FastingBS RestingECG  \\\n",
      "0     40   M           ATA        140          289          0     Normal   \n",
      "1     49   F           NAP        160          180          0     Normal   \n",
      "2     37   M           ATA        130          283          0         ST   \n",
      "3     48   F           ASY        138          214          0     Normal   \n",
      "4     54   M           NAP        150          195          0     Normal   \n",
      "..   ...  ..           ...        ...          ...        ...        ...   \n",
      "913   45   M            TA        110          264          0     Normal   \n",
      "914   68   M           ASY        144          193          1     Normal   \n",
      "915   57   M           ASY        130          131          0     Normal   \n",
      "916   57   F           ATA        130          236          0        LVH   \n",
      "917   38   M           NAP        138          175          0     Normal   \n",
      "\n",
      "     MaxHR ExerciseAngina  Oldpeak ST_Slope  HeartDisease  \n",
      "0      172              N      0.0       Up             0  \n",
      "1      156              N      1.0     Flat             1  \n",
      "2       98              N      0.0       Up             0  \n",
      "3      108              Y      1.5     Flat             1  \n",
      "4      122              N      0.0       Up             0  \n",
      "..     ...            ...      ...      ...           ...  \n",
      "913    132              N      1.2     Flat             1  \n",
      "914    141              N      3.4     Flat             1  \n",
      "915    115              Y      1.2     Flat             1  \n",
      "916    174              N      0.0     Flat             1  \n",
      "917    173              N      0.0       Up             0  \n",
      "\n",
      "[918 rows x 12 columns]\n"
     ]
    }
   ],
   "source": [
    "#obtaining my dataframe.\n",
    "df = pd.read_csv('C:/Users/Samuel Kim/Downloads/heart.csv')\n",
    "print(df)"
   ]
  },
  {
   "cell_type": "code",
   "execution_count": 81,
   "id": "ec70f11b",
   "metadata": {},
   "outputs": [],
   "source": [
    "#CORRECTING THE DATA TYPES"
   ]
  },
  {
   "cell_type": "code",
   "execution_count": 82,
   "id": "3ca5568f",
   "metadata": {},
   "outputs": [],
   "source": [
    "#renaming the columns\n",
    "renamed_columns = ['age', 'sex', 'chest_pain_type', 'resting_blood_pressure', 'cholesterol', \n",
    "                   'fasting_blood_sugar', 'rest_ecg', 'max_heart_rate_achieved','exercise_induced_angina',\n",
    "                   'st_depression', 'st_slope', 'Heart_Disease']\n",
    "df.columns = renamed_columns"
   ]
  },
  {
   "cell_type": "code",
   "execution_count": 83,
   "id": "6668798f",
   "metadata": {},
   "outputs": [],
   "source": [
    "#correcting the data types\n",
    "categorical_columns = ['sex', 'chest_pain_type', 'fasting_blood_sugar', 'rest_ecg',\n",
    "                       'exercise_induced_angina', 'st_slope']\n",
    "df[categorical_columns] = df[categorical_columns].astype('object')"
   ]
  },
  {
   "cell_type": "code",
   "execution_count": 84,
   "id": "fe5e12c3",
   "metadata": {},
   "outputs": [
    {
     "name": "stdout",
     "output_type": "stream",
     "text": [
      "     age sex chest_pain_type  resting_blood_pressure  cholesterol  \\\n",
      "0     40   M             ATA                     140          289   \n",
      "1     49   F             NAP                     160          180   \n",
      "2     37   M             ATA                     130          283   \n",
      "3     48   F             ASY                     138          214   \n",
      "4     54   M             NAP                     150          195   \n",
      "..   ...  ..             ...                     ...          ...   \n",
      "913   45   M              TA                     110          264   \n",
      "914   68   M             ASY                     144          193   \n",
      "915   57   M             ASY                     130          131   \n",
      "916   57   F             ATA                     130          236   \n",
      "917   38   M             NAP                     138          175   \n",
      "\n",
      "    fasting_blood_sugar rest_ecg  max_heart_rate_achieved  \\\n",
      "0                     0   Normal                      172   \n",
      "1                     0   Normal                      156   \n",
      "2                     0       ST                       98   \n",
      "3                     0   Normal                      108   \n",
      "4                     0   Normal                      122   \n",
      "..                  ...      ...                      ...   \n",
      "913                   0   Normal                      132   \n",
      "914                   1   Normal                      141   \n",
      "915                   0   Normal                      115   \n",
      "916                   0      LVH                      174   \n",
      "917                   0   Normal                      173   \n",
      "\n",
      "    exercise_induced_angina  st_depression st_slope  Heart_Disease  \n",
      "0                         N            0.0       Up              0  \n",
      "1                         N            1.0     Flat              1  \n",
      "2                         N            0.0       Up              0  \n",
      "3                         Y            1.5     Flat              1  \n",
      "4                         N            0.0       Up              0  \n",
      "..                      ...            ...      ...            ...  \n",
      "913                       N            1.2     Flat              1  \n",
      "914                       N            3.4     Flat              1  \n",
      "915                       Y            1.2     Flat              1  \n",
      "916                       N            0.0     Flat              1  \n",
      "917                       N            0.0       Up              0  \n",
      "\n",
      "[918 rows x 12 columns]\n"
     ]
    }
   ],
   "source": [
    "print(df)"
   ]
  },
  {
   "cell_type": "code",
   "execution_count": 85,
   "id": "f8b92b4e",
   "metadata": {},
   "outputs": [],
   "source": [
    "#REMOVING THE UNECESSARY COLUMNS OR VALUES"
   ]
  },
  {
   "cell_type": "code",
   "execution_count": 86,
   "id": "aed52ab2",
   "metadata": {},
   "outputs": [],
   "source": [
    "#renaming the values in the catergorical features\n",
    "df['sex'].replace({'F':'female','M':'male'}, inplace=True)\n",
    "\n",
    "df['chest_pain_type'].replace({'TA':'typical angina','ATA':'atypical angina','NAP':'non-anginal pain','ASY':'asymptomatic'}, inplace=True)\n",
    "\n",
    "df['fasting_blood_sugar'].replace({0:'lower than 120mg/ml',1:'greater than 120mg/ml'}, inplace=True)\n",
    "\n",
    "df['rest_ecg'].replace({0:'normal',1:'ST-T wave abnormality'}, inplace=True)\n",
    "\n",
    "df['exercise_induced_angina'].replace({0:'no',1:'yes'}, inplace=True)\n",
    "\n",
    "df['Heart_Disease'].replace({0:'heart_disease',1:'normal'}, inplace=True)"
   ]
  },
  {
   "cell_type": "code",
   "execution_count": 87,
   "id": "7eebe523",
   "metadata": {},
   "outputs": [
    {
     "name": "stdout",
     "output_type": "stream",
     "text": [
      "     age     sex   chest_pain_type  resting_blood_pressure  cholesterol  \\\n",
      "0     40    male   atypical angina                     140          289   \n",
      "1     49  female  non-anginal pain                     160          180   \n",
      "2     37    male   atypical angina                     130          283   \n",
      "3     48  female      asymptomatic                     138          214   \n",
      "4     54    male  non-anginal pain                     150          195   \n",
      "..   ...     ...               ...                     ...          ...   \n",
      "913   45    male    typical angina                     110          264   \n",
      "914   68    male      asymptomatic                     144          193   \n",
      "915   57    male      asymptomatic                     130          131   \n",
      "916   57  female   atypical angina                     130          236   \n",
      "917   38    male  non-anginal pain                     138          175   \n",
      "\n",
      "       fasting_blood_sugar rest_ecg  max_heart_rate_achieved  \\\n",
      "0      lower than 120mg/ml   Normal                      172   \n",
      "1      lower than 120mg/ml   Normal                      156   \n",
      "2      lower than 120mg/ml       ST                       98   \n",
      "3      lower than 120mg/ml   Normal                      108   \n",
      "4      lower than 120mg/ml   Normal                      122   \n",
      "..                     ...      ...                      ...   \n",
      "913    lower than 120mg/ml   Normal                      132   \n",
      "914  greater than 120mg/ml   Normal                      141   \n",
      "915    lower than 120mg/ml   Normal                      115   \n",
      "916    lower than 120mg/ml      LVH                      174   \n",
      "917    lower than 120mg/ml   Normal                      173   \n",
      "\n",
      "    exercise_induced_angina  st_depression st_slope  Heart_Disease  \n",
      "0                         N            0.0       Up  heart_disease  \n",
      "1                         N            1.0     Flat         normal  \n",
      "2                         N            0.0       Up  heart_disease  \n",
      "3                         Y            1.5     Flat         normal  \n",
      "4                         N            0.0       Up  heart_disease  \n",
      "..                      ...            ...      ...            ...  \n",
      "913                       N            1.2     Flat         normal  \n",
      "914                       N            3.4     Flat         normal  \n",
      "915                       Y            1.2     Flat         normal  \n",
      "916                       N            0.0     Flat         normal  \n",
      "917                       N            0.0       Up  heart_disease  \n",
      "\n",
      "[918 rows x 12 columns]\n"
     ]
    }
   ],
   "source": [
    "print(df)"
   ]
  },
  {
   "cell_type": "code",
   "execution_count": 88,
   "id": "0ffd2730",
   "metadata": {},
   "outputs": [],
   "source": [
    "#HANDLING MISSING VALUES"
   ]
  },
  {
   "cell_type": "code",
   "execution_count": 89,
   "id": "a54d29a7",
   "metadata": {},
   "outputs": [
    {
     "data": {
      "text/plain": [
       "age                        0\n",
       "sex                        0\n",
       "chest_pain_type            0\n",
       "resting_blood_pressure     0\n",
       "cholesterol                0\n",
       "fasting_blood_sugar        0\n",
       "rest_ecg                   0\n",
       "max_heart_rate_achieved    0\n",
       "exercise_induced_angina    0\n",
       "st_depression              0\n",
       "st_slope                   0\n",
       "Heart_Disease              0\n",
       "dtype: int64"
      ]
     },
     "execution_count": 89,
     "metadata": {},
     "output_type": "execute_result"
    }
   ],
   "source": [
    "#total missing values in each column\n",
    "df.isnull().sum()"
   ]
  }
 ],
 "metadata": {
  "kernelspec": {
   "display_name": "Python 3",
   "language": "python",
   "name": "python3"
  },
  "language_info": {
   "codemirror_mode": {
    "name": "ipython",
    "version": 3
   },
   "file_extension": ".py",
   "mimetype": "text/x-python",
   "name": "python",
   "nbconvert_exporter": "python",
   "pygments_lexer": "ipython3",
   "version": "3.8.8"
  }
 },
 "nbformat": 4,
 "nbformat_minor": 5
}
